{
  "nbformat": 4,
  "nbformat_minor": 0,
  "metadata": {
    "colab": {
      "provenance": []
    },
    "kernelspec": {
      "name": "python3",
      "display_name": "Python 3"
    },
    "language_info": {
      "name": "python"
    }
  },
  "cells": [
    {
      "cell_type": "markdown",
      "source": [
        "#Multiprocessing"
      ],
      "metadata": {
        "id": "kwrH6Q_DamU8"
      }
    },
    {
      "cell_type": "code",
      "execution_count": 1,
      "metadata": {
        "id": "UU2LWlG2agox"
      },
      "outputs": [],
      "source": [
        "# Q1. What is multiprocessing in Python? Why is it useful?\n",
        "# Multiprocessing in Python refers to the ability to create multiple processes, each running independently and potentially concurrently.\n",
        "# Each process has its own memory space and resources, which helps in executing multiple tasks simultaneously.\n",
        "\n",
        "# use:\n",
        "\n",
        "# Concurrency: Enables the concurrent execution of tasks, leading to better utilization of multiple CPU cores.\n",
        "# Parallelism: Allows for true parallelism, which is especially beneficial for CPU-bound tasks.\n",
        "# Isolation: Each process runs in its own memory space, reducing the risk of memory corruption and interference between processes."
      ]
    },
    {
      "cell_type": "code",
      "source": [
        "# Q2. What are the differences between multiprocessing and multithreading?\n",
        "\n",
        "# Differences:\n",
        "# Memory Space:\n",
        "\n",
        "# Multithreading: Threads share the same memory space.\n",
        "# Multiprocessing: Each process has its own separate memory space.\n",
        "# Concurrency vs. Parallelism:\n",
        "\n",
        "# Multithreading: Achieves concurrency (context switching between threads) but is limited by the Global Interpreter Lock (GIL) in Python.\n",
        "# Multiprocessing: Achieves true parallelism by running processes on multiple CPU cores.\n",
        "# Global Interpreter Lock (GIL):\n",
        "\n",
        "# Multithreading: Affected by the GIL, which can limit performance gains in CPU-bound tasks.\n",
        "# Multiprocessing: Not affected by the GIL, allowing for better performance in CPU-bound tasks.\n",
        "# Complexity:\n",
        "\n",
        "# Multithreading: Easier to share data between threads but requires careful synchronization.\n",
        "# Multiprocessing: More complex to share data between processes but provides better isolation and stability."
      ],
      "metadata": {
        "id": "fFgWEkqpaybc"
      },
      "execution_count": 2,
      "outputs": []
    },
    {
      "cell_type": "code",
      "source": [
        "#Q3. Write a Python code to create a process using the multiprocessing module.\n",
        "import multiprocessing\n",
        "\n",
        "def worker():\n",
        "    print(\"Worker process is running\")\n",
        "\n",
        "if __name__ == '__main__':\n",
        "    process = multiprocessing.Process(target=worker)\n",
        "    process.start()\n",
        "    process.join()\n",
        "    print(\"Worker process has finished\")\n"
      ],
      "metadata": {
        "colab": {
          "base_uri": "https://localhost:8080/"
        },
        "id": "tY0UfC1vayl9",
        "outputId": "b8e5d478-5e79-4dae-8413-7008c2a6465b"
      },
      "execution_count": 3,
      "outputs": [
        {
          "output_type": "stream",
          "name": "stdout",
          "text": [
            "Worker process is running\n",
            "Worker process has finished\n"
          ]
        }
      ]
    },
    {
      "cell_type": "code",
      "source": [
        "# #Q4. What is a multiprocessing pool in Python? Why is it used?\n",
        "# A multiprocessing pool in Python is a collection of worker processes that can execute tasks concurrently.\n",
        "# The multiprocessing.Pool class provides a convenient way to parallelize the execution of a function across multiple input values.\n",
        "\n",
        "# Uses:\n",
        "\n",
        "# Simplifies Parallelism: Makes it easier to parallelize the execution of a function over a sequence of inputs.\n",
        "# Resource Management: Manages a pool of worker processes, handling the distribution of tasks and collection of results.\n",
        "# Scalability: Allows for efficient utilization of multiple CPU cores for large-scale parallel processing tasks."
      ],
      "metadata": {
        "id": "LKnvEs1obA2n"
      },
      "execution_count": 4,
      "outputs": []
    },
    {
      "cell_type": "code",
      "source": [
        "# Q5. How can we create a pool of worker processes in Python using the multiprocessing module?\n",
        "# To create a pool of worker processes, you can use the multiprocessing.Pool class.\n",
        "\n",
        "import multiprocessing\n",
        "\n",
        "def worker(x):\n",
        "    return x * x\n",
        "\n",
        "if __name__ == '__main__':\n",
        "    with multiprocessing.Pool(processes=4) as pool:\n",
        "        results = pool.map(worker, range(10))\n",
        "    print(results)\n",
        "\n"
      ],
      "metadata": {
        "colab": {
          "base_uri": "https://localhost:8080/"
        },
        "id": "W6E6MygwbA-6",
        "outputId": "e4a957a1-2dfe-4922-a8d0-a221495c02a2"
      },
      "execution_count": 5,
      "outputs": [
        {
          "output_type": "stream",
          "name": "stdout",
          "text": [
            "[0, 1, 4, 9, 16, 25, 36, 49, 64, 81]\n"
          ]
        }
      ]
    },
    {
      "cell_type": "code",
      "source": [
        "# Q6. Write a Python program to create 4 processes, each process should print a different number using the multiprocessing module in Python\n",
        "\n",
        "import multiprocessing\n",
        "\n",
        "def print_number(number):\n",
        "    print(f\"Process ID: {multiprocessing.current_process().pid}, Number: {number}\")\n",
        "\n",
        "if __name__ == '__main__':\n",
        "    numbers = [1, 2, 3, 4]\n",
        "    processes = []\n",
        "\n",
        "    for number in numbers:\n",
        "        process = multiprocessing.Process(target=print_number, args=(number,))\n",
        "        processes.append(process)\n",
        "        process.start()\n",
        "\n",
        "    for process in processes:\n",
        "        process.join()\n",
        "\n",
        "    print(\"All processes have finished\")\n"
      ],
      "metadata": {
        "colab": {
          "base_uri": "https://localhost:8080/"
        },
        "id": "47B_lSj2bBHT",
        "outputId": "bd6d9687-5d69-4f96-ac51-22f794be6762"
      },
      "execution_count": 6,
      "outputs": [
        {
          "output_type": "stream",
          "name": "stdout",
          "text": [
            "Process ID: 2145, Number: 1Process ID: 2147, Number: 2\n",
            "Process ID: 2151, Number: 3\n",
            "\n",
            "\n",
            "Process ID: 2158, Number: 4All processes have finished\n"
          ]
        }
      ]
    },
    {
      "cell_type": "code",
      "source": [],
      "metadata": {
        "id": "4A504lHObBRV"
      },
      "execution_count": null,
      "outputs": []
    }
  ]
}