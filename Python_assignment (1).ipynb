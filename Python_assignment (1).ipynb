{
  "nbformat": 4,
  "nbformat_minor": 0,
  "metadata": {
    "colab": {
      "provenance": []
    },
    "kernelspec": {
      "name": "python3",
      "display_name": "Python 3"
    },
    "language_info": {
      "name": "python"
    }
  },
  "cells": [
    {
      "cell_type": "markdown",
      "source": [
        "#PYTHON - Data Structures Assignment\n"
      ],
      "metadata": {
        "id": "S-tiZQwvfq9r"
      }
    },
    {
      "cell_type": "code",
      "source": [
        "# Q1. How do you comment code in Python? What are the different types of comments?\n",
        "# In Python, comments are used to explain code and make it more readable. There are two types of comments\n",
        "\n",
        "Singleline_comments='These begin with the hash symbol'\n",
        "Multiline_comments= 'These can be created using triple quotes'\n"
      ],
      "metadata": {
        "id": "VuNLJzBhanZQ"
      },
      "execution_count": 2,
      "outputs": []
    },
    {
      "cell_type": "code",
      "source": [
        "# Q2. What are variables in Python? How do you declare and assign values to variables?\n",
        "# Variables in Python are used to store data values. You do not need to declare variables before using them or declare their type.\n",
        "# You just assign a value to a variable, and Python takes care of the rest."
      ],
      "metadata": {
        "id": "pGjgfucmb2qc"
      },
      "execution_count": 3,
      "outputs": []
    },
    {
      "cell_type": "code",
      "source": [
        "# Q3. How do you convert one data type to another in Python?\n",
        "# You can convert between data types using Python built-in functions:\n",
        "x = 5\n",
        "y = float(x)  # Convert integer to float\n",
        "z = str(x)    # Convert integer to string\n"
      ],
      "metadata": {
        "id": "OZXAl_zBcOAM"
      },
      "execution_count": 6,
      "outputs": []
    },
    {
      "cell_type": "code",
      "source": [
        "#Q4. How do you write and execute a Python script from the command line?\n",
        "Ans='python script.py' #here script is any python file name\n",
        "\n"
      ],
      "metadata": {
        "id": "p7jF2ZyocOCJ"
      },
      "execution_count": 7,
      "outputs": []
    },
    {
      "cell_type": "code",
      "source": [
        "#Q5. Given a list my_list = [1, 2, 3, 4, 5], write the code to slice the list and obtain the sub-list [2, 3]\n",
        "my_list = [1, 2, 3, 4, 5]\n",
        "sub_list = my_list[1:3]\n",
        "print(sub_list)\n"
      ],
      "metadata": {
        "colab": {
          "base_uri": "https://localhost:8080/"
        },
        "id": "S6V4s0e-cOGC",
        "outputId": "8b018a6f-7a9b-426d-bbb1-55f716fd02bc"
      },
      "execution_count": 8,
      "outputs": [
        {
          "output_type": "stream",
          "name": "stdout",
          "text": [
            "[2, 3]\n"
          ]
        }
      ]
    },
    {
      "cell_type": "code",
      "source": [
        "# Q6. What is a complex number in mathematics, and how is it represented in Python?\n",
        "# A complex number in mathematics is a number that has both a real part and an imaginary part, and is typically written in the form a + bj,\n",
        "#where a is the real part and b is the imaginary part.\n",
        "z = 3 + 4j  # where 3 is the real part and 4 is the imaginary part\n",
        "print(z.real)\n",
        "print(z.imag)\n"
      ],
      "metadata": {
        "colab": {
          "base_uri": "https://localhost:8080/"
        },
        "id": "chfS_QOLcOI7",
        "outputId": "c351e101-9ca6-41db-e12a-84eeccfcc2bb"
      },
      "execution_count": 9,
      "outputs": [
        {
          "output_type": "stream",
          "name": "stdout",
          "text": [
            "3.0\n",
            "4.0\n"
          ]
        }
      ]
    },
    {
      "cell_type": "code",
      "source": [
        "#Q7. What is the correct way to declare a variable named age and assign the value 25 to it?\n",
        "age=25"
      ],
      "metadata": {
        "id": "kjZ1Yaosd_aK"
      },
      "execution_count": 10,
      "outputs": []
    },
    {
      "cell_type": "code",
      "source": [
        "#Q8. Declare a variable named price and assign the value 9.99 to it. What data type does this variable belong to?\n",
        "price=9.99 #the variable is a float type\n"
      ],
      "metadata": {
        "id": "cJxty9lTeRw9"
      },
      "execution_count": 11,
      "outputs": []
    },
    {
      "cell_type": "code",
      "source": [
        "#Q9. Create a variable named name and assign your full name to it as a string. How would you print the value of this variable?\n",
        "name = \"John Doe\"\n",
        "print(name)\n"
      ],
      "metadata": {
        "colab": {
          "base_uri": "https://localhost:8080/"
        },
        "id": "x9S4GA-3ef72",
        "outputId": "3bb2d362-29f7-4a14-e34d-8e10b1b2af6d"
      },
      "execution_count": 12,
      "outputs": [
        {
          "output_type": "stream",
          "name": "stdout",
          "text": [
            "John Doe\n"
          ]
        }
      ]
    },
    {
      "cell_type": "code",
      "source": [
        "#Q10. Given the string \"Hello, World!\", extract the substring \"World\"\n",
        "a='hello,world'\n",
        "a.split(',')[1]"
      ],
      "metadata": {
        "colab": {
          "base_uri": "https://localhost:8080/",
          "height": 35
        },
        "id": "DKITk29aeqlU",
        "outputId": "26ba8224-84ba-4660-80fd-433b93b3f22b"
      },
      "execution_count": 14,
      "outputs": [
        {
          "output_type": "execute_result",
          "data": {
            "text/plain": [
              "'world'"
            ],
            "application/vnd.google.colaboratory.intrinsic+json": {
              "type": "string"
            }
          },
          "metadata": {},
          "execution_count": 14
        }
      ]
    },
    {
      "cell_type": "code",
      "source": [
        "#Q11. Create a variable named is_student and assign it a boolean value indicating whether you are currently a student or not.\n",
        "is_student = True"
      ],
      "metadata": {
        "id": "RQ6zkPJLfLA7"
      },
      "execution_count": 18,
      "outputs": []
    },
    {
      "cell_type": "code",
      "source": [],
      "metadata": {
        "id": "K7u9AtrWfmFx"
      },
      "execution_count": null,
      "outputs": []
    }
  ]
}