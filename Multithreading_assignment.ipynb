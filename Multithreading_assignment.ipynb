{
  "nbformat": 4,
  "nbformat_minor": 0,
  "metadata": {
    "colab": {
      "provenance": []
    },
    "kernelspec": {
      "name": "python3",
      "display_name": "Python 3"
    },
    "language_info": {
      "name": "python"
    }
  },
  "cells": [
    {
      "cell_type": "markdown",
      "source": [
        "#Multithreading"
      ],
      "metadata": {
        "id": "jUsWOA4nZ_UY"
      }
    },
    {
      "cell_type": "code",
      "execution_count": 1,
      "metadata": {
        "id": "FpC7wRjiX05v"
      },
      "outputs": [],
      "source": [
        "# Q1. What is multithreading in Python? Why is it used? Name the module used to handle threads in Python.\n",
        "# Multithreading in Python is the concurrent execution of multiple threads (smaller units of a process) to achieve parallelism. Threads run in the same memory space and are lighter than processes, allowing for efficient multitasking.\n",
        "\n",
        "# Why is it used?\n",
        "\n",
        "# Concurrency: Allows multiple threads to run simultaneously, making programs more responsive.\n",
        "# Efficiency: Threads can perform I/O operations while others perform computation, leading to better resource utilization.\n",
        "# Performance: Suitable for I/O-bound tasks where the CPU spends time waiting for external events like file reads or network requests.\n",
        "# Module Used: The threading module is used to handle threads in Python"
      ]
    },
    {
      "cell_type": "code",
      "source": [
        "# Q2. Why threading module used? Write the use of the following functions: activeCount, currentThread, enumerate\n",
        "# The threading module provides a higher-level, object-oriented interface to work with threads, making it easier to create and manage threads compared to the lower-level _thread module\n"
      ],
      "metadata": {
        "id": "NQOuyTvIX2V5"
      },
      "execution_count": 2,
      "outputs": []
    },
    {
      "cell_type": "code",
      "source": [
        "#activeCount: Returns the number of Thread objects currently alive\n",
        "import threading\n",
        "print(\"Active thread count:\", threading.activeCount())\n"
      ],
      "metadata": {
        "colab": {
          "base_uri": "https://localhost:8080/"
        },
        "id": "rr9QR7HuYRRp",
        "outputId": "9b3e3d55-15c6-428f-e9d8-8d10c745ebe8"
      },
      "execution_count": 3,
      "outputs": [
        {
          "output_type": "stream",
          "name": "stdout",
          "text": [
            "Active thread count: 5\n"
          ]
        },
        {
          "output_type": "stream",
          "name": "stderr",
          "text": [
            "<ipython-input-3-8ee4d2c0b79a>:3: DeprecationWarning: activeCount() is deprecated, use active_count() instead\n",
            "  print(\"Active thread count:\", threading.activeCount())\n"
          ]
        }
      ]
    },
    {
      "cell_type": "code",
      "source": [
        "# currentThread: Returns the current Thread object corresponding to the caller's thread of control\n",
        "import threading\n",
        "print(\"Current thread:\", threading.currentThread().getName())\n"
      ],
      "metadata": {
        "colab": {
          "base_uri": "https://localhost:8080/"
        },
        "id": "r817Wmn5YWCv",
        "outputId": "5766ec4f-25c4-4011-b201-32f7a65e26b0"
      },
      "execution_count": 4,
      "outputs": [
        {
          "output_type": "stream",
          "name": "stdout",
          "text": [
            "Current thread: MainThread\n"
          ]
        },
        {
          "output_type": "stream",
          "name": "stderr",
          "text": [
            "<ipython-input-4-3b597169ca32>:3: DeprecationWarning: currentThread() is deprecated, use current_thread() instead\n",
            "  print(\"Current thread:\", threading.currentThread().getName())\n",
            "<ipython-input-4-3b597169ca32>:3: DeprecationWarning: getName() is deprecated, get the name attribute instead\n",
            "  print(\"Current thread:\", threading.currentThread().getName())\n"
          ]
        }
      ]
    },
    {
      "cell_type": "code",
      "source": [
        "#enumerate: Returns a list of all Thread objects currently alive\n",
        "import threading\n",
        "print(\"All active threads:\", threading.enumerate())\n"
      ],
      "metadata": {
        "colab": {
          "base_uri": "https://localhost:8080/"
        },
        "id": "C31a7wX1YbZb",
        "outputId": "d3ea51b8-6636-40f2-ce18-8b337b650061"
      },
      "execution_count": 5,
      "outputs": [
        {
          "output_type": "stream",
          "name": "stdout",
          "text": [
            "All active threads: [<_MainThread(MainThread, started 131952522293248)>, <Thread(Thread-2 (_thread_main), started daemon 131952360212032)>, <Heartbeat(Thread-3, started daemon 131952351819328)>, <ParentPollerUnix(Thread-1, started daemon 131952101811776)>, <Thread(_colab_inspector_thread, started daemon 131951830742592)>]\n"
          ]
        }
      ]
    },
    {
      "cell_type": "code",
      "source": [
        "# Explain the following functions: run, start, join, isAlive\n",
        "# run: Defines the thread's activity and is called by the start method.\n",
        "# You can override this method in a subclass to define what the thread should do when started.\n",
        "import threading\n",
        "\n",
        "class MyThread(threading.Thread):\n",
        "    def run(self):\n",
        "        print(\"Thread is running\")\n",
        "\n",
        "t = MyThread()\n",
        "t.start()\n"
      ],
      "metadata": {
        "colab": {
          "base_uri": "https://localhost:8080/"
        },
        "id": "JsP8jUJ-Yqoz",
        "outputId": "5e58a0a4-d216-4dab-a4af-ec3c83ee0624"
      },
      "execution_count": 6,
      "outputs": [
        {
          "output_type": "stream",
          "name": "stdout",
          "text": [
            "Thread is running\n"
          ]
        }
      ]
    },
    {
      "cell_type": "code",
      "source": [
        "# start: Starts the thread's activity by invoking the run method in a separate thread of control\n",
        "t = threading.Thread(target=my_function)\n",
        "t.start()"
      ],
      "metadata": {
        "id": "-WaUmFx0Y7Si"
      },
      "execution_count": null,
      "outputs": []
    },
    {
      "cell_type": "code",
      "source": [
        "#join: Waits for the thread to terminate. It blocks the calling thread until the thread whose join method is called terminates.\n",
        "t = threading.Thread(target=my_function)\n",
        "t.start()\n",
        "t.join()\n",
        "print(\"Thread has finished\")\n"
      ],
      "metadata": {
        "id": "myJGM5N4Y-_u"
      },
      "execution_count": null,
      "outputs": []
    },
    {
      "cell_type": "code",
      "source": [
        "# isAlive: Returns True if the thread is still alive (running), False otherwise.\n",
        "import threading\n",
        "\n",
        "def worker():\n",
        "    import time\n",
        "    time.sleep(2)\n",
        "\n",
        "thread = threading.Thread(target=worker)\n",
        "thread.start()\n",
        "print(thread.isAlive())\n",
        "thread.join()\n",
        "print(thread.isAlive())\n"
      ],
      "metadata": {
        "id": "p04yPereY_DZ"
      },
      "execution_count": null,
      "outputs": []
    },
    {
      "cell_type": "code",
      "source": [
        "# 4. Write a Python program to create two threads. Thread one must print the list of squares and thread two must print the list of cubes\n",
        "import threading\n",
        "\n",
        "def print_squares(numbers):\n",
        "    for number in numbers:\n",
        "        print(f\"Square of {number}: {number * number}\")\n",
        "\n",
        "def print_cubes(numbers):\n",
        "    for number in numbers:\n",
        "        print(f\"Cube of {number}: {number * number * number}\")\n",
        "\n",
        "numbers = [1, 2, 3, 4, 5]\n",
        "\n",
        "thread1 = threading.Thread(target=print_squares, args=(numbers,))\n",
        "thread2 = threading.Thread(target=print_cubes, args=(numbers,))\n",
        "\n",
        "thread1.start()\n",
        "thread2.start()\n",
        "\n",
        "thread1.join()\n",
        "thread2.join()\n",
        "\n",
        "print(\"Both threads have finished execution.\")\n"
      ],
      "metadata": {
        "colab": {
          "base_uri": "https://localhost:8080/"
        },
        "id": "gPNFn3UOY_G2",
        "outputId": "e82a5a9d-31de-4870-8961-84ad0d17efb1"
      },
      "execution_count": 8,
      "outputs": [
        {
          "output_type": "stream",
          "name": "stdout",
          "text": [
            "Square of 1: 1\n",
            "Square of 2: 4\n",
            "Square of 3: 9\n",
            "Square of 4: 16\n",
            "Square of 5: 25\n",
            "Cube of 1: 1\n",
            "Cube of 2: 8\n",
            "Cube of 3: 27\n",
            "Cube of 4: 64\n",
            "Cube of 5: 125\n",
            "Both threads have finished execution.\n"
          ]
        }
      ]
    },
    {
      "cell_type": "code",
      "source": [
        "# 5. State advantages and disadvantages of multithreading.\n",
        "# Advantages:\n",
        "\n",
        "# Concurrency: Allows multiple threads to run concurrently, improving the efficiency of resource use.\n",
        "# Responsiveness: Keeps applications responsive, especially during long-running tasks.\n",
        "# Resource Sharing: Threads share the same memory space, allowing for easy communication between them.\n",
        "# Improved Performance: Can improve performance, especially in I/O-bound and high-latency operations.\n",
        "\n",
        "# Disadvantages:\n",
        "\n",
        "# Complexity: Writing and managing multi-threaded programs is more complex and prone to errors such as deadlocks and race conditions.\n",
        "# Synchronization Overhead: Requires careful synchronization to avoid conflicts, adding overhead.\n",
        "# GIL in Python: Python's Global Interpreter Lock (GIL) can limit the performance gains of multi-threading in CPU-bound tasks."
      ],
      "metadata": {
        "id": "x_iafpV8Y_J3"
      },
      "execution_count": 9,
      "outputs": []
    },
    {
      "cell_type": "code",
      "source": [
        "# 6. Explain deadlocks and race conditions\n",
        "# Deadlocks:\n",
        "\n",
        "# Explanation: A deadlock occurs when two or more threads are blocked forever, waiting for each other to release a resource.\n",
        "# This typically happens when multiple threads acquire locks in different orders, creating a cycle of dependencies.\n",
        "import threading\n",
        "\n",
        "lock1 = threading.Lock()\n",
        "lock2 = threading.Lock()\n",
        "\n",
        "def thread1():\n",
        "    with lock1:\n",
        "        with lock2:\n",
        "            print(\"Thread 1\")\n",
        "\n",
        "def thread2():\n",
        "    with lock2:\n",
        "        with lock1:\n",
        "            print(\"Thread 2\")\n",
        "\n",
        "t1 = threading.Thread(target=thread1)\n",
        "t2 = threading.Thread(target=thread2)\n",
        "\n",
        "t1.start()\n",
        "t2.start()\n"
      ],
      "metadata": {
        "colab": {
          "base_uri": "https://localhost:8080/"
        },
        "id": "g0mLU0c4Y_MX",
        "outputId": "3b41bb7e-c0b8-4896-cd68-431545fbd181"
      },
      "execution_count": 10,
      "outputs": [
        {
          "output_type": "stream",
          "name": "stdout",
          "text": [
            "Thread 1\n",
            "Thread 2\n"
          ]
        }
      ]
    },
    {
      "cell_type": "code",
      "source": [
        "# Race Conditions:\n",
        "\n",
        "# Explanation: A race condition occurs when the behavior of a program depends on the relative timing of events, such as the order of thread execution.\n",
        "# It can lead to unpredictable results and bugs\n",
        "import threading\n",
        "\n",
        "shared_resource = 0\n",
        "\n",
        "def increment():\n",
        "    global shared_resource\n",
        "    local_copy = shared_resource\n",
        "    local_copy += 1\n",
        "    shared_resource = local_copy\n",
        "\n",
        "threads = []\n",
        "for _ in range(100):\n",
        "    thread = threading.Thread(target=increment)\n",
        "    threads.append(thread)\n",
        "    thread.start()\n",
        "\n",
        "for thread in threads:\n",
        "    thread.join()\n",
        "\n",
        "print(f\"Final value of shared resource: {shared_resource}\")\n"
      ],
      "metadata": {
        "colab": {
          "base_uri": "https://localhost:8080/"
        },
        "id": "NYmWT8sIZ1mH",
        "outputId": "f90a9cf7-a18a-41f9-8e28-6e0d8b34dc0f"
      },
      "execution_count": 11,
      "outputs": [
        {
          "output_type": "stream",
          "name": "stdout",
          "text": [
            "Final value of shared resource: 100\n"
          ]
        }
      ]
    },
    {
      "cell_type": "code",
      "source": [],
      "metadata": {
        "id": "OAY3hXZKZ8wl"
      },
      "execution_count": null,
      "outputs": []
    }
  ]
}