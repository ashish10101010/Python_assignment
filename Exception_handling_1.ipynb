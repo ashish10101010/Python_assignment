{
  "nbformat": 4,
  "nbformat_minor": 0,
  "metadata": {
    "colab": {
      "provenance": []
    },
    "kernelspec": {
      "name": "python3",
      "display_name": "Python 3"
    },
    "language_info": {
      "name": "python"
    }
  },
  "cells": [
    {
      "cell_type": "markdown",
      "source": [
        "#Exception handling-1"
      ],
      "metadata": {
        "id": "P6aQjht-Jd0U"
      }
    },
    {
      "cell_type": "code",
      "execution_count": 1,
      "metadata": {
        "id": "N3iL-UfTGxIB"
      },
      "outputs": [],
      "source": [
        "# Q1. What is an Exception in Python? Write the difference between Exceptions and Syntax errors.\n",
        "# Exception:\n",
        "# An exception is an event that occurs during the execution of a program that disrupts the normal flow of the program's instructions.\n",
        "#It is a runtime error that can be caught and handled by the program to prevent it from crashing.\n",
        "\n",
        "# Syntax Error:\n",
        "# A syntax error occurs when the parser detects an incorrect statement.\n",
        "#It is a compile-time error and occurs before the program is executed.\n",
        "#The interpreter stops the execution of the code when a syntax error is encountered.\n",
        "\n",
        "\n",
        "# Difference between Exceptions and Syntax Errors:\n",
        "# Syntax Error: These are detected before the program execution and are caused by incorrect syntax. For example, missing a colon at the end of a for statement.\n",
        "# Exception: These occur during the program execution (runtime) and are caused by invalid operations, such as dividing by zero or accessing a file that doesn't exist."
      ]
    },
    {
      "cell_type": "code",
      "source": [
        "# Q2. What happens when an exception is not handled? Explain with an example.\n",
        "# When an exception is not handled, the program stops its execution and an error message is displayed.\n",
        "# This error message is called a traceback and it gives information about what kind of exception occurred and where it happened.\n",
        "# This will raise an exception and stop the execution of the program\n",
        "def divide(a, b):\n",
        "    return a / b\n",
        "\n",
        "result = divide(10, 0)\n",
        "print(result)"
      ],
      "metadata": {
        "id": "MMWUZUDJJav0"
      },
      "execution_count": null,
      "outputs": []
    },
    {
      "cell_type": "code",
      "source": [
        "# Q3. Which Python statements are used to catch and handle exceptions? Explain with an example.\n",
        "# Python uses the try, except, else, and finally statements to catch and handle exceptions\n",
        "try:\n",
        "    value = int(input(\"Enter a number: \"))\n",
        "    result = 10 / value\n",
        "except ZeroDivisionError:\n",
        "    print(\"You can't divide by zero!\")\n",
        "except ValueError:\n",
        "    print(\"Invalid input. Please enter a number.\")\n",
        "else:\n",
        "    print(f\"The result is {result}\")\n",
        "finally:\n",
        "    print(\"Execution completed.\")\n"
      ],
      "metadata": {
        "colab": {
          "base_uri": "https://localhost:8080/"
        },
        "id": "sCoEqWELHmpT",
        "outputId": "b8529ba0-b1f9-4098-c492-b2bd7ff40ef7"
      },
      "execution_count": 3,
      "outputs": [
        {
          "output_type": "stream",
          "name": "stdout",
          "text": [
            "Enter a number: 20\n",
            "The result is 0.5\n",
            "Execution completed.\n"
          ]
        }
      ]
    },
    {
      "cell_type": "code",
      "source": [
        "# Q4. Explain with an example: try and else, finally, raise\n",
        "# try and else:\n",
        "# The else block executes if no exceptions were raised in the try block\n",
        "try:\n",
        "    num = int(input(\"Enter a positive number: \"))\n",
        "    if num <= 0:\n",
        "        raise ValueError(\"That is not a positive number!\")\n",
        "except ValueError as ve:\n",
        "    print(ve)\n",
        "else:\n",
        "    print(f\"Thank you for entering a positive number: {num}\")\n"
      ],
      "metadata": {
        "colab": {
          "base_uri": "https://localhost:8080/"
        },
        "id": "6IfVtsZOIYFI",
        "outputId": "6c9c803c-0876-44f4-a733-cc209440cf82"
      },
      "execution_count": 4,
      "outputs": [
        {
          "output_type": "stream",
          "name": "stdout",
          "text": [
            "Enter a positive number: 10\n",
            "Thank you for entering a positive number: 10\n"
          ]
        }
      ]
    },
    {
      "cell_type": "code",
      "source": [
        "# finally:\n",
        "# The finally block executes no matter what, even if an exception is raised or not.\n",
        "try:\n",
        "    file = open(\"test.txt\", \"r\")\n",
        "    content = file.read()\n",
        "except FileNotFoundError:\n",
        "    print(\"File not found.\")\n",
        "finally:\n",
        "    file.close()\n",
        "    print(\"File closed.\")\n"
      ],
      "metadata": {
        "id": "5V_b3Rs0IlPL"
      },
      "execution_count": null,
      "outputs": []
    },
    {
      "cell_type": "code",
      "source": [
        "# raise:\n",
        "# The raise statement is used to explicitly raise an exception\n",
        "def check_positive(number):\n",
        "    if number <= 0:\n",
        "        raise ValueError(\"Number must be positive\")\n",
        "    return number\n",
        "\n",
        "try:\n",
        "    check_positive(-1)\n",
        "except ValueError as e:\n",
        "    print(e)\n"
      ],
      "metadata": {
        "colab": {
          "base_uri": "https://localhost:8080/"
        },
        "id": "Gtd8hA7NI3LM",
        "outputId": "11a1d473-3d12-4fde-a815-b0652cd2e1b3"
      },
      "execution_count": 5,
      "outputs": [
        {
          "output_type": "stream",
          "name": "stdout",
          "text": [
            "Number must be positive\n"
          ]
        }
      ]
    },
    {
      "cell_type": "code",
      "source": [
        "# Q5. What are Custom Exceptions in Python? Why do we need Custom Exceptions? Explain with an example.\n",
        "# Custom exceptions allow you to define your own error types for specific error conditions in your program.\n",
        "# This is useful when you want to differentiate between different types of errors that might occur and handle them in specific ways.\n",
        "class NegativeNumberError(Exception):\n",
        "    pass\n",
        "\n",
        "def check_positive(number):\n",
        "    if number < 0:\n",
        "        raise NegativeNumberError(\"Negative numbers are not allowed\")\n",
        "    return number\n",
        "\n",
        "try:\n",
        "    check_positive(-5)\n",
        "except NegativeNumberError as e:\n",
        "    print(e)\n"
      ],
      "metadata": {
        "colab": {
          "base_uri": "https://localhost:8080/"
        },
        "id": "w4aYhIZ3I-gS",
        "outputId": "485798a1-86d3-4ad6-feac-a5f99e1799c2"
      },
      "execution_count": 6,
      "outputs": [
        {
          "output_type": "stream",
          "name": "stdout",
          "text": [
            "Negative numbers are not allowed\n"
          ]
        }
      ]
    },
    {
      "cell_type": "code",
      "source": [
        "#Q6. Create a custom exception class. Use this class to handle an exception.\n",
        "# Define the custom exception\n",
        "class InvalidAgeError(Exception):\n",
        "    def __init__(self, age, message=\"Age must be between 18 and 60\"):\n",
        "        self.age = age\n",
        "        self.message = message\n",
        "        super().__init__(self.message)\n",
        "\n",
        "# Function that raises the custom exception\n",
        "def check_age(age):\n",
        "    if age < 18 or age > 60:\n",
        "        raise InvalidAgeError(age)\n",
        "    else:\n",
        "        print(\"Age is within the valid range.\")\n",
        "\n",
        "# Example usage\n",
        "try:\n",
        "    check_age(17)\n",
        "except InvalidAgeError as e:\n",
        "    print(f\"InvalidAgeError: {e}\")\n"
      ],
      "metadata": {
        "colab": {
          "base_uri": "https://localhost:8080/"
        },
        "id": "ENrw7_zlJI2s",
        "outputId": "3614c1f0-ca4e-4417-8bbe-dceb3cb2ca18"
      },
      "execution_count": 7,
      "outputs": [
        {
          "output_type": "stream",
          "name": "stdout",
          "text": [
            "InvalidAgeError: Age must be between 18 and 60\n"
          ]
        }
      ]
    },
    {
      "cell_type": "code",
      "source": [],
      "metadata": {
        "id": "dd5LbKBVJPnU"
      },
      "execution_count": null,
      "outputs": []
    }
  ]
}